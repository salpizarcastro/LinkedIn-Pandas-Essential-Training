{
 "cells": [
  {
   "cell_type": "code",
   "execution_count": 13,
   "metadata": {},
   "outputs": [
    {
     "name": "stdout",
     "output_type": "stream",
     "text": [
      "9\n",
      "e\n",
      "em\n",
      "emo\n",
      "emor\n",
      "emord\n",
      "emordn\n",
      "emordni\n",
      "emordnil\n",
      "emordnila\n",
      "emordnilap\n",
      "True\n"
     ]
    }
   ],
   "source": [
    "# my solution\n",
    "mystr = 'palindrome'\n",
    "mystr2 = 'emordnilap'\n",
    "reverse_mystr = ''\n",
    "\n",
    "i = len(mystr) - 1\n",
    "print(i)\n",
    "\n",
    "while i >= 0:\n",
    "    reverse_mystr = reverse_mystr + mystr[i]\n",
    "    i = i - 1\n",
    "    \n",
    "print(reverse_mystr == mystr2)\n",
    "    "
   ]
  },
  {
   "cell_type": "code",
   "execution_count": 15,
   "metadata": {},
   "outputs": [
    {
     "name": "stdout",
     "output_type": "stream",
     "text": [
      "emordnilap\n"
     ]
    }
   ],
   "source": [
    "# using range instead\n",
    "\n",
    "mystr = 'palindrome'\n",
    "reverse_mystr = ''\n",
    "for i in range(0, len(mystr)):\n",
    "    reverse_mystr = reverse_mystr + mystr[i]\n",
    "\n",
    "print(mystr2)    "
   ]
  },
  {
   "cell_type": "code",
   "execution_count": 26,
   "metadata": {},
   "outputs": [
    {
     "name": "stdout",
     "output_type": "stream",
     "text": [
      "eodia\n",
      "emordnilap\n"
     ]
    }
   ],
   "source": [
    "mystr = 'palindrome'\n",
    "#print(mystr[10::-1])\n",
    "print(mystr[len(mystr)::-1])"
   ]
  },
  {
   "cell_type": "code",
   "execution_count": 35,
   "metadata": {},
   "outputs": [
    {
     "name": "stdout",
     "output_type": "stream",
     "text": [
      "palindrome\n",
      "p\n",
      "\n"
     ]
    }
   ],
   "source": [
    "# slices\n",
    "print(mystr[0:10])\n",
    "print(mystr[0::10])\n",
    "print(mystr[-1:-3:1])"
   ]
  },
  {
   "cell_type": "code",
   "execution_count": null,
   "metadata": {},
   "outputs": [],
   "source": []
  }
 ],
 "metadata": {
  "kernelspec": {
   "display_name": "Python 3",
   "language": "python",
   "name": "python3"
  },
  "language_info": {
   "codemirror_mode": {
    "name": "ipython",
    "version": 3
   },
   "file_extension": ".py",
   "mimetype": "text/x-python",
   "name": "python",
   "nbconvert_exporter": "python",
   "pygments_lexer": "ipython3",
   "version": "3.8.1"
  }
 },
 "nbformat": 4,
 "nbformat_minor": 2
}
